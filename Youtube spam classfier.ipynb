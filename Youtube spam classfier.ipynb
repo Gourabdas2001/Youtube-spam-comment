{
 "cells": [
  {
   "cell_type": "code",
   "execution_count": 1,
   "id": "00d12c1e",
   "metadata": {},
   "outputs": [
    {
     "name": "stdout",
     "output_type": "stream",
     "text": [
      "Requirement already satisfied: tensorflow in d:\\java1\\lib\\site-packages (2.13.0)\n",
      "Requirement already satisfied: tensorflow-intel==2.13.0 in d:\\java1\\lib\\site-packages (from tensorflow) (2.13.0)\n",
      "Requirement already satisfied: absl-py>=1.0.0 in d:\\java1\\lib\\site-packages (from tensorflow-intel==2.13.0->tensorflow) (1.4.0)\n",
      "Requirement already satisfied: astunparse>=1.6.0 in d:\\java1\\lib\\site-packages (from tensorflow-intel==2.13.0->tensorflow) (1.6.3)\n",
      "Requirement already satisfied: flatbuffers>=23.1.21 in d:\\java1\\lib\\site-packages (from tensorflow-intel==2.13.0->tensorflow) (23.5.26)\n",
      "Requirement already satisfied: gast<=0.4.0,>=0.2.1 in d:\\java1\\lib\\site-packages (from tensorflow-intel==2.13.0->tensorflow) (0.4.0)\n",
      "Requirement already satisfied: google-pasta>=0.1.1 in d:\\java1\\lib\\site-packages (from tensorflow-intel==2.13.0->tensorflow) (0.2.0)\n",
      "Requirement already satisfied: h5py>=2.9.0 in d:\\java1\\lib\\site-packages (from tensorflow-intel==2.13.0->tensorflow) (3.7.0)\n",
      "Requirement already satisfied: libclang>=13.0.0 in d:\\java1\\lib\\site-packages (from tensorflow-intel==2.13.0->tensorflow) (16.0.6)\n",
      "Requirement already satisfied: numpy<=1.24.3,>=1.22 in d:\\java1\\lib\\site-packages (from tensorflow-intel==2.13.0->tensorflow) (1.24.3)\n",
      "Requirement already satisfied: opt-einsum>=2.3.2 in d:\\java1\\lib\\site-packages (from tensorflow-intel==2.13.0->tensorflow) (3.3.0)\n",
      "Requirement already satisfied: packaging in d:\\java1\\lib\\site-packages (from tensorflow-intel==2.13.0->tensorflow) (23.0)\n",
      "Requirement already satisfied: protobuf!=4.21.0,!=4.21.1,!=4.21.2,!=4.21.3,!=4.21.4,!=4.21.5,<5.0.0dev,>=3.20.3 in d:\\java1\\lib\\site-packages (from tensorflow-intel==2.13.0->tensorflow) (4.24.0)\n",
      "Requirement already satisfied: setuptools in d:\\java1\\lib\\site-packages (from tensorflow-intel==2.13.0->tensorflow) (68.0.0)\n",
      "Requirement already satisfied: six>=1.12.0 in d:\\java1\\lib\\site-packages (from tensorflow-intel==2.13.0->tensorflow) (1.16.0)\n",
      "Requirement already satisfied: termcolor>=1.1.0 in d:\\java1\\lib\\site-packages (from tensorflow-intel==2.13.0->tensorflow) (2.3.0)\n",
      "Requirement already satisfied: typing-extensions<4.6.0,>=3.6.6 in d:\\java1\\lib\\site-packages (from tensorflow-intel==2.13.0->tensorflow) (4.5.0)\n",
      "Requirement already satisfied: wrapt>=1.11.0 in d:\\java1\\lib\\site-packages (from tensorflow-intel==2.13.0->tensorflow) (1.14.1)\n",
      "Requirement already satisfied: grpcio<2.0,>=1.24.3 in d:\\java1\\lib\\site-packages (from tensorflow-intel==2.13.0->tensorflow) (1.57.0)\n",
      "Requirement already satisfied: tensorboard<2.14,>=2.13 in d:\\java1\\lib\\site-packages (from tensorflow-intel==2.13.0->tensorflow) (2.13.0)\n",
      "Requirement already satisfied: tensorflow-estimator<2.14,>=2.13.0 in d:\\java1\\lib\\site-packages (from tensorflow-intel==2.13.0->tensorflow) (2.13.0)\n",
      "Requirement already satisfied: keras<2.14,>=2.13.1 in d:\\java1\\lib\\site-packages (from tensorflow-intel==2.13.0->tensorflow) (2.13.1)\n",
      "Requirement already satisfied: tensorflow-io-gcs-filesystem>=0.23.1 in d:\\java1\\lib\\site-packages (from tensorflow-intel==2.13.0->tensorflow) (0.31.0)\n",
      "Requirement already satisfied: wheel<1.0,>=0.23.0 in d:\\java1\\lib\\site-packages (from astunparse>=1.6.0->tensorflow-intel==2.13.0->tensorflow) (0.38.4)\n",
      "Requirement already satisfied: google-auth<3,>=1.6.3 in d:\\java1\\lib\\site-packages (from tensorboard<2.14,>=2.13->tensorflow-intel==2.13.0->tensorflow) (2.22.0)\n",
      "Requirement already satisfied: google-auth-oauthlib<1.1,>=0.5 in d:\\java1\\lib\\site-packages (from tensorboard<2.14,>=2.13->tensorflow-intel==2.13.0->tensorflow) (1.0.0)\n",
      "Requirement already satisfied: markdown>=2.6.8 in d:\\java1\\lib\\site-packages (from tensorboard<2.14,>=2.13->tensorflow-intel==2.13.0->tensorflow) (3.4.1)\n",
      "Requirement already satisfied: requests<3,>=2.21.0 in d:\\java1\\lib\\site-packages (from tensorboard<2.14,>=2.13->tensorflow-intel==2.13.0->tensorflow) (2.31.0)\n",
      "Requirement already satisfied: tensorboard-data-server<0.8.0,>=0.7.0 in d:\\java1\\lib\\site-packages (from tensorboard<2.14,>=2.13->tensorflow-intel==2.13.0->tensorflow) (0.7.1)\n",
      "Requirement already satisfied: werkzeug>=1.0.1 in d:\\java1\\lib\\site-packages (from tensorboard<2.14,>=2.13->tensorflow-intel==2.13.0->tensorflow) (2.2.3)\n",
      "Requirement already satisfied: cachetools<6.0,>=2.0.0 in d:\\java1\\lib\\site-packages (from google-auth<3,>=1.6.3->tensorboard<2.14,>=2.13->tensorflow-intel==2.13.0->tensorflow) (5.3.1)\n",
      "Requirement already satisfied: pyasn1-modules>=0.2.1 in d:\\java1\\lib\\site-packages (from google-auth<3,>=1.6.3->tensorboard<2.14,>=2.13->tensorflow-intel==2.13.0->tensorflow) (0.2.8)\n",
      "Requirement already satisfied: rsa<5,>=3.1.4 in d:\\java1\\lib\\site-packages (from google-auth<3,>=1.6.3->tensorboard<2.14,>=2.13->tensorflow-intel==2.13.0->tensorflow) (4.9)\n",
      "Requirement already satisfied: urllib3<2.0 in d:\\java1\\lib\\site-packages (from google-auth<3,>=1.6.3->tensorboard<2.14,>=2.13->tensorflow-intel==2.13.0->tensorflow) (1.26.16)\n",
      "Requirement already satisfied: requests-oauthlib>=0.7.0 in d:\\java1\\lib\\site-packages (from google-auth-oauthlib<1.1,>=0.5->tensorboard<2.14,>=2.13->tensorflow-intel==2.13.0->tensorflow) (1.3.1)\n",
      "Requirement already satisfied: charset-normalizer<4,>=2 in d:\\java1\\lib\\site-packages (from requests<3,>=2.21.0->tensorboard<2.14,>=2.13->tensorflow-intel==2.13.0->tensorflow) (2.0.4)\n",
      "Requirement already satisfied: idna<4,>=2.5 in d:\\java1\\lib\\site-packages (from requests<3,>=2.21.0->tensorboard<2.14,>=2.13->tensorflow-intel==2.13.0->tensorflow) (3.4)\n",
      "Requirement already satisfied: certifi>=2017.4.17 in d:\\java1\\lib\\site-packages (from requests<3,>=2.21.0->tensorboard<2.14,>=2.13->tensorflow-intel==2.13.0->tensorflow) (2023.7.22)\n",
      "Requirement already satisfied: MarkupSafe>=2.1.1 in d:\\java1\\lib\\site-packages (from werkzeug>=1.0.1->tensorboard<2.14,>=2.13->tensorflow-intel==2.13.0->tensorflow) (2.1.1)\n",
      "Requirement already satisfied: pyasn1<0.5.0,>=0.4.6 in d:\\java1\\lib\\site-packages (from pyasn1-modules>=0.2.1->google-auth<3,>=1.6.3->tensorboard<2.14,>=2.13->tensorflow-intel==2.13.0->tensorflow) (0.4.8)\n",
      "Requirement already satisfied: oauthlib>=3.0.0 in d:\\java1\\lib\\site-packages (from requests-oauthlib>=0.7.0->google-auth-oauthlib<1.1,>=0.5->tensorboard<2.14,>=2.13->tensorflow-intel==2.13.0->tensorflow) (3.2.2)\n",
      "Note: you may need to restart the kernel to use updated packages.\n"
     ]
    }
   ],
   "source": [
    "pip install tensorflow"
   ]
  },
  {
   "cell_type": "code",
   "execution_count": 27,
   "id": "2a984c01",
   "metadata": {},
   "outputs": [],
   "source": [
    "import numpy as np\n",
    "import pandas as pd\n",
    "import nltk\n",
    "from nltk.corpus import stopwords\n",
    "from nltk.tokenize import word_tokenize\n",
    "from nltk.classify.scikitlearn import SklearnClassifier\n",
    "from sklearn import model_selection\n",
    "from sklearn.tree import DecisionTreeClassifier\n",
    "from sklearn.ensemble import RandomForestClassifier\n",
    "from sklearn.linear_model import LogisticRegression, SGDClassifier\n",
    "from sklearn.naive_bayes import MultinomialNB\n",
    "from sklearn.svm import SVC\n",
    "from sklearn.metrics import classification_report, confusion_matrix\n",
    "from sklearn.neighbors import KNeighborsClassifier\n",
    "import tensorflow as tf\n",
    "from tensorboard.plugins.hparams import api as hp\n",
    "import datetime\n",
    "import nltk"
   ]
  },
  {
   "cell_type": "code",
   "execution_count": 3,
   "id": "62dcbefe",
   "metadata": {},
   "outputs": [],
   "source": [
    "def create_summary_writer(log_dir):\n",
    "    return tf.summary.create_file_writer(logdir=log_dir)"
   ]
  },
  {
   "cell_type": "code",
   "execution_count": 4,
   "id": "1deb849e",
   "metadata": {},
   "outputs": [],
   "source": [
    "HP_MODEL = hp.HParam('model', hp.Discrete(['Random Forest', 'SVM', 'Logistic Regression', 'SGD Classifier', 'Naive Bayes', 'K Nearest Neighbors', 'Decision Tree']))\n",
    "HP_TRAIN_SIZE = hp.HParam('train_size', hp.RealInterval(0.0, 1.0))\n"
   ]
  },
  {
   "cell_type": "code",
   "execution_count": 5,
   "id": "21c88b0e",
   "metadata": {},
   "outputs": [],
   "source": [
    "log_dir = \"logs/fit/\" + datetime.datetime.now().strftime(\"%Y%m%d-%H%M%S\")\n",
    "with tf.summary.create_file_writer(log_dir).as_default():\n",
    "    hp.hparams_config(\n",
    "        hparams=[HP_MODEL, HP_TRAIN_SIZE],\n",
    "        metrics=[hp.Metric('accuracy', display_name='Accuracy')],\n",
    "    )"
   ]
  },
  {
   "cell_type": "code",
   "execution_count": 8,
   "id": "80192f7f",
   "metadata": {},
   "outputs": [],
   "source": [
    "# Data Loading\n",
    "Psy = pd.read_csv(\"C:/Users/goura/Downloads/archive (23)/Youtube01-Psy.csv\")\n",
    "Katy = pd.read_csv(\"C:/Users/goura/Downloads/archive (23)/Youtube02-KatyPerry.csv\")\n",
    "Eminem = pd.read_csv(\"C:/Users/goura/Downloads/archive (23)/Youtube04-Eminem.csv\")\n",
    "Shakira = pd.read_csv(\"C:/Users/goura/Downloads/archive (23)/Youtube05-Shakira.csv\")\n",
    "LMFAO = pd.read_csv(\"C:/Users/goura/Downloads/archive (23)/Youtube03-LMFAO.csv\")\n",
    "df = pd.concat([Shakira, Eminem, Katy, Psy, LMFAO])"
   ]
  },
  {
   "cell_type": "code",
   "execution_count": 11,
   "id": "eff2ddf1",
   "metadata": {},
   "outputs": [
    {
     "data": {
      "text/plain": [
       "Index(['COMMENT_ID', 'AUTHOR', 'DATE', 'CONTENT', 'CLASS'], dtype='object')"
      ]
     },
     "execution_count": 11,
     "metadata": {},
     "output_type": "execute_result"
    }
   ],
   "source": [
    "df.columns"
   ]
  },
  {
   "cell_type": "code",
   "execution_count": 12,
   "id": "2b21b81d",
   "metadata": {},
   "outputs": [
    {
     "data": {
      "text/plain": [
       "(1956, 4)"
      ]
     },
     "execution_count": 12,
     "metadata": {},
     "output_type": "execute_result"
    }
   ],
   "source": [
    "df.drop('DATE', axis=1, inplace=True)\n",
    "\n",
    "df.shape"
   ]
  },
  {
   "cell_type": "code",
   "execution_count": 13,
   "id": "9728da25",
   "metadata": {},
   "outputs": [
    {
     "data": {
      "text/plain": [
       "Index(['COMMENT_ID', 'AUTHOR', 'CONTENT', 'CLASS'], dtype='object')"
      ]
     },
     "execution_count": 13,
     "metadata": {},
     "output_type": "execute_result"
    }
   ],
   "source": [
    "df.columns"
   ]
  },
  {
   "cell_type": "code",
   "execution_count": 14,
   "id": "91f00bc0",
   "metadata": {},
   "outputs": [
    {
     "data": {
      "text/html": [
       "<div>\n",
       "<style scoped>\n",
       "    .dataframe tbody tr th:only-of-type {\n",
       "        vertical-align: middle;\n",
       "    }\n",
       "\n",
       "    .dataframe tbody tr th {\n",
       "        vertical-align: top;\n",
       "    }\n",
       "\n",
       "    .dataframe thead th {\n",
       "        text-align: right;\n",
       "    }\n",
       "</style>\n",
       "<table border=\"1\" class=\"dataframe\">\n",
       "  <thead>\n",
       "    <tr style=\"text-align: right;\">\n",
       "      <th></th>\n",
       "      <th>COMMENT_ID</th>\n",
       "      <th>AUTHOR</th>\n",
       "      <th>CONTENT</th>\n",
       "      <th>CLASS</th>\n",
       "    </tr>\n",
       "  </thead>\n",
       "  <tbody>\n",
       "    <tr>\n",
       "      <th>0</th>\n",
       "      <td>z13lgffb5w3ddx1ul22qy1wxspy5cpkz504</td>\n",
       "      <td>dharma pal</td>\n",
       "      <td>Nice song﻿</td>\n",
       "      <td>0</td>\n",
       "    </tr>\n",
       "    <tr>\n",
       "      <th>1</th>\n",
       "      <td>z123dbgb0mqjfxbtz22ucjc5jvzcv3ykj</td>\n",
       "      <td>Tiza Arellano</td>\n",
       "      <td>I love song ﻿</td>\n",
       "      <td>0</td>\n",
       "    </tr>\n",
       "    <tr>\n",
       "      <th>2</th>\n",
       "      <td>z12quxxp2vutflkxv04cihggzt2azl34pms0k</td>\n",
       "      <td>Prìñçeśś Âliś Łøvê Dømíñø Mâđiś™ ﻿</td>\n",
       "      <td>I love song ﻿</td>\n",
       "      <td>0</td>\n",
       "    </tr>\n",
       "    <tr>\n",
       "      <th>3</th>\n",
       "      <td>z12icv3ysqvlwth2c23eddlykyqut5z1h</td>\n",
       "      <td>Eric Gonzalez</td>\n",
       "      <td>860,000,000 lets make it first female to reach...</td>\n",
       "      <td>0</td>\n",
       "    </tr>\n",
       "    <tr>\n",
       "      <th>4</th>\n",
       "      <td>z133stly3kete3tly22petvwdpmghrlli</td>\n",
       "      <td>Analena López</td>\n",
       "      <td>shakira is best for worldcup﻿</td>\n",
       "      <td>0</td>\n",
       "    </tr>\n",
       "  </tbody>\n",
       "</table>\n",
       "</div>"
      ],
      "text/plain": [
       "                              COMMENT_ID                              AUTHOR  \\\n",
       "0    z13lgffb5w3ddx1ul22qy1wxspy5cpkz504                          dharma pal   \n",
       "1      z123dbgb0mqjfxbtz22ucjc5jvzcv3ykj                       Tiza Arellano   \n",
       "2  z12quxxp2vutflkxv04cihggzt2azl34pms0k  Prìñçeśś Âliś Łøvê Dømíñø Mâđiś™ ﻿   \n",
       "3      z12icv3ysqvlwth2c23eddlykyqut5z1h                       Eric Gonzalez   \n",
       "4      z133stly3kete3tly22petvwdpmghrlli                       Analena López   \n",
       "\n",
       "                                             CONTENT  CLASS  \n",
       "0                                         Nice song﻿      0  \n",
       "1                                      I love song ﻿      0  \n",
       "2                                      I love song ﻿      0  \n",
       "3  860,000,000 lets make it first female to reach...      0  \n",
       "4                      shakira is best for worldcup﻿      0  "
      ]
     },
     "execution_count": 14,
     "metadata": {},
     "output_type": "execute_result"
    }
   ],
   "source": [
    "df.head()"
   ]
  },
  {
   "cell_type": "code",
   "execution_count": 19,
   "id": "a7a43847",
   "metadata": {},
   "outputs": [
    {
     "data": {
      "text/plain": [
       "<Axes: >"
      ]
     },
     "execution_count": 19,
     "metadata": {},
     "output_type": "execute_result"
    },
    {
     "data": {
      "image/png": "[encoded data removed]",
      "text/plain": [
       "<Figure size 640x480 with 1 Axes>"
      ]
     },
     "metadata": {},
     "output_type": "display_data"
    }
   ],
   "source": [
    "df['CLASS'].value_counts().plot(kind='bar')"
   ]
  },
  {
   "cell_type": "code",
   "execution_count": 20,
   "id": "0487036c",
   "metadata": {},
   "outputs": [
    {
     "name": "stdout",
     "output_type": "stream",
     "text": [
      "1    1005\n",
      "0     951\n",
      "Name: CLASS, dtype: int64\n"
     ]
    }
   ],
   "source": [
    "classes = df['CLASS']\n",
    "print(classes.value_counts())"
   ]
  },
  {
   "cell_type": "code",
   "execution_count": 21,
   "id": "31bbf555",
   "metadata": {},
   "outputs": [],
   "source": [
    "text_messages = df[\"CONTENT\"]"
   ]
  },
  {
   "cell_type": "code",
   "execution_count": 22,
   "id": "18bbf7f2",
   "metadata": {},
   "outputs": [
    {
     "name": "stderr",
     "output_type": "stream",
     "text": [
      "C:\\Users\\goura\\AppData\\Local\\Temp\\ipykernel_19840\\3240830285.py:3: FutureWarning: The default value of regex will change from True to False in a future version.\n",
      "  processed = df['CONTENT'].str.replace(r'^.+@[^\\.].*\\.[a-z]{2,}$', 'emailaddress')\n",
      "C:\\Users\\goura\\AppData\\Local\\Temp\\ipykernel_19840\\3240830285.py:4: FutureWarning: The default value of regex will change from True to False in a future version.\n",
      "  processed = processed.str.replace(r'^http\\://[a-zA-Z0-9\\-\\.]+\\.[a-zA-Z]{2,3}(/\\S*)?$', 'webaddress')\n",
      "C:\\Users\\goura\\AppData\\Local\\Temp\\ipykernel_19840\\3240830285.py:5: FutureWarning: The default value of regex will change from True to False in a future version.\n",
      "  processed = processed.str.replace(r'£|\\$', 'moneysymb')\n",
      "C:\\Users\\goura\\AppData\\Local\\Temp\\ipykernel_19840\\3240830285.py:6: FutureWarning: The default value of regex will change from True to False in a future version.\n",
      "  processed = processed.str.replace(r'^\\(?[\\d]{3}\\)?[\\s-]?[\\d]{3}[\\s-]?[\\d]{4}$', 'phonenumbr')\n",
      "C:\\Users\\goura\\AppData\\Local\\Temp\\ipykernel_19840\\3240830285.py:7: FutureWarning: The default value of regex will change from True to False in a future version.\n",
      "  processed = processed.str.replace(r'\\d+(\\.\\d+)?', 'numbr')\n",
      "C:\\Users\\goura\\AppData\\Local\\Temp\\ipykernel_19840\\3240830285.py:8: FutureWarning: The default value of regex will change from True to False in a future version.\n",
      "  processed = processed.str.replace(r'[^\\w\\d\\s]', ' ')\n",
      "C:\\Users\\goura\\AppData\\Local\\Temp\\ipykernel_19840\\3240830285.py:9: FutureWarning: The default value of regex will change from True to False in a future version.\n",
      "  processed = processed.str.replace(r'\\s+', ' ')\n",
      "C:\\Users\\goura\\AppData\\Local\\Temp\\ipykernel_19840\\3240830285.py:10: FutureWarning: The default value of regex will change from True to False in a future version.\n",
      "  processed = processed.str.replace(r'^\\s+|\\s+?$', '')\n"
     ]
    }
   ],
   "source": [
    "# Preprocessing\n",
    "# Replace email addresses, URLs, phone numbers, other numbers, symbols, and remove stop words\n",
    "processed = df['CONTENT'].str.replace(r'^.+@[^\\.].*\\.[a-z]{2,}$', 'emailaddress')\n",
    "processed = processed.str.replace(r'^http\\://[a-zA-Z0-9\\-\\.]+\\.[a-zA-Z]{2,3}(/\\S*)?$', 'webaddress')\n",
    "processed = processed.str.replace(r'£|\\$', 'moneysymb')\n",
    "processed = processed.str.replace(r'^\\(?[\\d]{3}\\)?[\\s-]?[\\d]{3}[\\s-]?[\\d]{4}$', 'phonenumbr')\n",
    "processed = processed.str.replace(r'\\d+(\\.\\d+)?', 'numbr')\n",
    "processed = processed.str.replace(r'[^\\w\\d\\s]', ' ')\n",
    "processed = processed.str.replace(r'\\s+', ' ')\n",
    "processed = processed.str.replace(r'^\\s+|\\s+?$', '')\n",
    "processed = processed.str.lower()"
   ]
  },
  {
   "cell_type": "code",
   "execution_count": 23,
   "id": "d288853f",
   "metadata": {},
   "outputs": [
    {
     "name": "stdout",
     "output_type": "stream",
     "text": [
      "0                                           Nice song﻿\n",
      "1                                        I love song ﻿\n",
      "2                                        I love song ﻿\n",
      "3    860,000,000 lets make it first female to reach...\n",
      "4                        shakira is best for worldcup﻿\n",
      "5                    The best world cup song ever!!!!﻿\n",
      "6                                              I love﻿\n",
      "7    SEE SOME MORE SONG OPEN GOOGLE AND TYPE Shakir...\n",
      "8                                            Awesome ﻿\n",
      "9                                    I like shakira..﻿\n",
      "Name: CONTENT, dtype: object\n"
     ]
    }
   ],
   "source": [
    "print(text_messages[:10])"
   ]
  },
  {
   "cell_type": "code",
   "execution_count": 24,
   "id": "e16dcd43",
   "metadata": {},
   "outputs": [
    {
     "name": "stderr",
     "output_type": "stream",
     "text": [
      "C:\\Users\\goura\\AppData\\Local\\Temp\\ipykernel_19840\\2241229190.py:1: FutureWarning: The default value of regex will change from True to False in a future version.\n",
      "  processed = processed.str.replace(r'[^\\w\\d\\s]', ' ')\n",
      "C:\\Users\\goura\\AppData\\Local\\Temp\\ipykernel_19840\\2241229190.py:4: FutureWarning: The default value of regex will change from True to False in a future version.\n",
      "  processed = processed.str.replace(r'\\s+', ' ')\n",
      "C:\\Users\\goura\\AppData\\Local\\Temp\\ipykernel_19840\\2241229190.py:7: FutureWarning: The default value of regex will change from True to False in a future version.\n",
      "  processed = processed.str.replace(r'^\\s+|\\s+?$', '')\n"
     ]
    }
   ],
   "source": [
    "processed = processed.str.replace(r'[^\\w\\d\\s]', ' ')\n",
    "\n",
    "# Replace whitespace between terms with a single space\n",
    "processed = processed.str.replace(r'\\s+', ' ')\n",
    "\n",
    "# Remove leading and trailing whitespace\n",
    "processed = processed.str.replace(r'^\\s+|\\s+?$', '')"
   ]
  },
  {
   "cell_type": "code",
   "execution_count": 25,
   "id": "603762ef",
   "metadata": {},
   "outputs": [
    {
     "name": "stdout",
     "output_type": "stream",
     "text": [
      "0                                           Nice song﻿\n",
      "1                                        I love song ﻿\n",
      "2                                        I love song ﻿\n",
      "3    860,000,000 lets make it first female to reach...\n",
      "4                        shakira is best for worldcup﻿\n",
      "5                    The best world cup song ever!!!!﻿\n",
      "6                                              I love﻿\n",
      "7    SEE SOME MORE SONG OPEN GOOGLE AND TYPE Shakir...\n",
      "8                                            Awesome ﻿\n",
      "9                                    I like shakira..﻿\n",
      "Name: CONTENT, dtype: object\n"
     ]
    }
   ],
   "source": [
    "print(text_messages[:10])"
   ]
  },
  {
   "cell_type": "code",
   "execution_count": 26,
   "id": "d068256c",
   "metadata": {},
   "outputs": [
    {
     "name": "stdout",
     "output_type": "stream",
     "text": [
      "0                                              nice song\n",
      "1                                            i love song\n",
      "2                                            i love song\n",
      "3      numbr numbr numbr lets make it first female to...\n",
      "4                           shakira is best for worldcup\n",
      "                             ...                        \n",
      "433                      like this comment for no reason\n",
      "434                                       love this song\n",
      "435    this song is awesome these guys are the best l...\n",
      "436          how many thumbs up for louis saving the day\n",
      "437                                           nice numbr\n",
      "Name: CONTENT, Length: 1956, dtype: object\n"
     ]
    }
   ],
   "source": [
    "processed = processed.str.lower()\n",
    "print(processed)"
   ]
  },
  {
   "cell_type": "code",
   "execution_count": 28,
   "id": "73f877bf",
   "metadata": {},
   "outputs": [
    {
     "name": "stderr",
     "output_type": "stream",
     "text": [
      "[nltk_data] Downloading package stopwords to\n",
      "[nltk_data]     C:\\Users\\goura\\AppData\\Roaming\\nltk_data...\n",
      "[nltk_data]   Package stopwords is already up-to-date!\n",
      "[nltk_data] Downloading package punkt to\n",
      "[nltk_data]     C:\\Users\\goura\\AppData\\Roaming\\nltk_data...\n",
      "[nltk_data]   Package punkt is already up-to-date!\n"
     ]
    }
   ],
   "source": [
    "nltk.download('stopwords')\n",
    "stop_words = set(stopwords.words('english'))\n",
    "processed = processed.apply(lambda x: ' '.join(term for term in x.split() if term not in stop_words))\n",
    "\n",
    "# Stemming\n",
    "nltk.download('punkt')\n",
    "ps = nltk.PorterStemmer()\n",
    "processed = processed.apply(lambda x: ' '.join(ps.stem(term) for term in x.split()))"
   ]
  },
  {
   "cell_type": "code",
   "execution_count": 29,
   "id": "b3462a55",
   "metadata": {},
   "outputs": [
    {
     "name": "stdout",
     "output_type": "stream",
     "text": [
      "                              COMMENT_ID                              AUTHOR  \\\n",
      "0    z13lgffb5w3ddx1ul22qy1wxspy5cpkz504                          dharma pal   \n",
      "1      z123dbgb0mqjfxbtz22ucjc5jvzcv3ykj                       Tiza Arellano   \n",
      "2  z12quxxp2vutflkxv04cihggzt2azl34pms0k  Prìñçeśś Âliś Łøvê Dømíñø Mâđiś™ ﻿   \n",
      "3      z12icv3ysqvlwth2c23eddlykyqut5z1h                       Eric Gonzalez   \n",
      "4      z133stly3kete3tly22petvwdpmghrlli                       Analena López   \n",
      "\n",
      "                                             CONTENT  CLASS  \\\n",
      "0                                         Nice song﻿      0   \n",
      "1                                      I love song ﻿      0   \n",
      "2                                      I love song ﻿      0   \n",
      "3  860,000,000 lets make it first female to reach...      0   \n",
      "4                      shakira is best for worldcup﻿      0   \n",
      "\n",
      "                                   Processed_Content  \n",
      "0                                          nice song  \n",
      "1                                          love song  \n",
      "2                                          love song  \n",
      "3  numbr numbr numbr let make first femal reach o...  \n",
      "4                              shakira best worldcup  \n"
     ]
    }
   ],
   "source": [
    "# Preparing the final dataset\n",
    "df['Processed_Content'] = processed\n",
    "classes = df['CLASS']\n",
    "\n",
    "print(df.head())"
   ]
  },
  {
   "cell_type": "code",
   "execution_count": 30,
   "id": "c174283d",
   "metadata": {},
   "outputs": [],
   "source": [
    "# Tokenization\n",
    "from nltk.tokenize import word_tokenize\n",
    "\n",
    "# Create a bag-of-words model\n",
    "all_words = []\n",
    "for message in processed:\n",
    "    words = word_tokenize(message)\n",
    "    for w in words:\n",
    "        all_words.append(w)\n",
    "        \n",
    "all_words = nltk.FreqDist(all_words)"
   ]
  },
  {
   "cell_type": "code",
   "execution_count": 34,
   "id": "25783e4b",
   "metadata": {},
   "outputs": [],
   "source": [
    "# Use the most common words as features\n",
    "word_features = list(all_words.keys())[:1500]\n",
    "\n",
    "def find_features(message):\n",
    "    words = word_tokenize(message)\n",
    "    features = {}\n",
    "    for word in word_features:\n",
    "        features[word] = (word in words)\n",
    "\n",
    "    return features\n",
    "\n",
    "# Applying the find_features function to each SMS message\n",
    "featuresets = [(find_features(text), label) for (text, label) in zip(df['Processed_Content'], classes)]"
   ]
  },
  {
   "cell_type": "code",
   "execution_count": 35,
   "id": "bcfb0620",
   "metadata": {},
   "outputs": [],
   "source": [
    "# Split the data into training and testing datasets\n",
    "seed = 1\n",
    "np.random.seed = seed\n",
    "np.random.shuffle(featuresets)\n",
    "\n",
    "training, testing = model_selection.train_test_split(featuresets, test_size=0.25, random_state=seed)"
   ]
  },
  {
   "cell_type": "code",
   "execution_count": 36,
   "id": "22825548",
   "metadata": {},
   "outputs": [
    {
     "name": "stdout",
     "output_type": "stream",
     "text": [
      "Number of words: 3472\n",
      "Most common words: [('numbr', 1133), ('check', 581), ('video', 386), ('song', 340), ('com', 284), ('subscrib', 277), ('like', 272), ('youtub', 272), ('br', 258), ('pleas', 249), ('http', 236), ('love', 220), ('channel', 200), ('music', 157), ('make', 139)]\n"
     ]
    }
   ],
   "source": [
    "# print the total number of words and the 15 most common words\n",
    "print('Number of words: {}'.format(len(all_words)))\n",
    "print('Most common words: {}'.format(all_words.most_common(15)))"
   ]
  },
  {
   "cell_type": "code",
   "execution_count": 39,
   "id": "e92ee662",
   "metadata": {},
   "outputs": [
    {
     "name": "stdout",
     "output_type": "stream",
     "text": [
      "Collecting xgboost\n",
      "  Obtaining dependency information for xgboost from https://files.pythonhosted.org/packages/24/ec/ad387100fa3cc2b9b81af0829b5ecfe75ec5bb19dd7c19d4fea06fb81802/xgboost-2.0.3-py3-none-win_amd64.whl.metadata\n",
      "  Downloading xgboost-2.0.3-py3-none-win_amd64.whl.metadata (2.0 kB)\n",
      "Requirement already satisfied: numpy in d:\\java1\\lib\\site-packages (from xgboost) (1.24.3)\n",
      "Requirement already satisfied: scipy in d:\\java1\\lib\\site-packages (from xgboost) (1.10.1)\n",
      "Downloading xgboost-2.0.3-py3-none-win_amd64.whl (99.8 MB)\n",
      "   ---------------------------------------- 0.0/99.8 MB ? eta -:--:--\n",
      "   ---------------------------------------- 0.0/99.8 MB ? eta -:--:--\n",
      "   ---------------------------------------- 0.0/99.8 MB ? eta -:--:--\n",
      "   ---------------------------------------- 0.1/99.8 MB 819.2 kB/s eta 0:02:02\n",
      "   ---------------------------------------- 0.2/99.8 MB 1.1 MB/s eta 0:01:33\n",
      "   ---------------------------------------- 0.3/99.8 MB 1.4 MB/s eta 0:01:11\n",
      "   ---------------------------------------- 0.6/99.8 MB 2.2 MB/s eta 0:00:47\n",
      "   ---------------------------------------- 0.8/99.8 MB 2.5 MB/s eta 0:00:40\n",
      "   ---------------------------------------- 0.8/99.8 MB 2.5 MB/s eta 0:00:40\n",
      "   ---------------------------------------- 0.8/99.8 MB 2.5 MB/s eta 0:00:40\n",
      "   ---------------------------------------- 0.8/99.8 MB 2.5 MB/s eta 0:00:40\n",
      "   ---------------------------------------- 0.8/99.8 MB 2.5 MB/s eta 0:00:40\n",
      "   ---------------------------------------- 0.8/99.8 MB 2.5 MB/s eta 0:00:40\n",
      "   ---------------------------------------- 0.8/99.8 MB 2.5 MB/s eta 0:00:40\n",
      "   ---------------------------------------- 0.8/99.8 MB 2.5 MB/s eta 0:00:40\n",
      "   ---------------------------------------- 0.9/99.8 MB 1.3 MB/s eta 0:01:20\n",
      "   ---------------------------------------- 1.0/99.8 MB 1.4 MB/s eta 0:01:13\n",
      "   ---------------------------------------- 1.0/99.8 MB 1.4 MB/s eta 0:01:13\n",
      "   ---------------------------------------- 1.0/99.8 MB 1.4 MB/s eta 0:01:13\n",
      "   ---------------------------------------- 1.0/99.8 MB 1.4 MB/s eta 0:01:13\n",
      "   ---------------------------------------- 1.0/99.8 MB 1.4 MB/s eta 0:01:13\n",
      "   ---------------------------------------- 1.0/99.8 MB 1.4 MB/s eta 0:01:13\n",
      "   ---------------------------------------- 1.1/99.8 MB 1.1 MB/s eta 0:01:34\n",
      "   ---------------------------------------- 1.1/99.8 MB 1.0 MB/s eta 0:01:39\n",
      "   ---------------------------------------- 1.1/99.8 MB 992.1 kB/s eta 0:01:40\n",
      "   ---------------------------------------- 1.2/99.8 MB 991.3 kB/s eta 0:01:40\n",
      "   ---------------------------------------- 1.2/99.8 MB 991.3 kB/s eta 0:01:40\n",
      "    --------------------------------------- 1.9/99.8 MB 1.4 MB/s eta 0:01:08\n",
      "    --------------------------------------- 2.3/99.8 MB 1.8 MB/s eta 0:00:56\n",
      "   - -------------------------------------- 2.7/99.8 MB 2.0 MB/s eta 0:00:50\n",
      "   - -------------------------------------- 3.1/99.8 MB 2.2 MB/s eta 0:00:45\n",
      "   - -------------------------------------- 3.4/99.8 MB 2.3 MB/s eta 0:00:42\n",
      "   - -------------------------------------- 3.7/99.8 MB 2.5 MB/s eta 0:00:40\n",
      "   - -------------------------------------- 4.1/99.8 MB 2.6 MB/s eta 0:00:37\n",
      "   - -------------------------------------- 4.4/99.8 MB 2.7 MB/s eta 0:00:36\n",
      "   - -------------------------------------- 4.7/99.8 MB 2.8 MB/s eta 0:00:34\n",
      "   -- ------------------------------------- 5.1/99.8 MB 3.0 MB/s eta 0:00:32\n",
      "   -- ------------------------------------- 5.5/99.8 MB 3.1 MB/s eta 0:00:31\n",
      "   -- ------------------------------------- 5.8/99.8 MB 3.2 MB/s eta 0:00:29\n",
      "   -- ------------------------------------- 5.9/99.8 MB 3.3 MB/s eta 0:00:29\n",
      "   -- ------------------------------------- 5.9/99.8 MB 3.3 MB/s eta 0:00:29\n",
      "   -- ------------------------------------- 5.9/99.8 MB 3.3 MB/s eta 0:00:29\n",
      "   -- ------------------------------------- 7.1/99.8 MB 3.6 MB/s eta 0:00:26\n",
      "   -- ------------------------------------- 7.3/99.8 MB 3.6 MB/s eta 0:00:26\n",
      "   --- ------------------------------------ 7.8/99.8 MB 3.7 MB/s eta 0:00:25\n",
      "   --- ------------------------------------ 8.1/99.8 MB 3.8 MB/s eta 0:00:25\n",
      "   --- ------------------------------------ 8.6/99.8 MB 3.9 MB/s eta 0:00:24\n",
      "   --- ------------------------------------ 8.7/99.8 MB 3.9 MB/s eta 0:00:24\n",
      "   --- ------------------------------------ 9.3/99.8 MB 4.1 MB/s eta 0:00:23\n",
      "   --- ------------------------------------ 9.7/99.8 MB 4.1 MB/s eta 0:00:22\n",
      "   --- ------------------------------------ 9.9/99.8 MB 4.2 MB/s eta 0:00:22\n",
      "   ---- ----------------------------------- 10.4/99.8 MB 4.5 MB/s eta 0:00:20\n",
      "   ---- ----------------------------------- 10.8/99.8 MB 4.6 MB/s eta 0:00:20\n",
      "   ---- ----------------------------------- 11.2/99.8 MB 5.7 MB/s eta 0:00:16\n",
      "   ---- ----------------------------------- 11.5/99.8 MB 7.7 MB/s eta 0:00:12\n",
      "   ---- ----------------------------------- 11.7/99.8 MB 7.4 MB/s eta 0:00:12\n",
      "   ---- ----------------------------------- 12.3/99.8 MB 7.6 MB/s eta 0:00:12\n",
      "   ----- ---------------------------------- 12.7/99.8 MB 7.4 MB/s eta 0:00:12\n",
      "   ----- ---------------------------------- 13.0/99.8 MB 7.5 MB/s eta 0:00:12\n",
      "   ----- ---------------------------------- 13.5/99.8 MB 7.5 MB/s eta 0:00:12\n",
      "   ----- ---------------------------------- 13.5/99.8 MB 7.6 MB/s eta 0:00:12\n",
      "   ----- ---------------------------------- 14.0/99.8 MB 7.6 MB/s eta 0:00:12\n",
      "   ----- ---------------------------------- 14.2/99.8 MB 7.4 MB/s eta 0:00:12\n",
      "   ----- ---------------------------------- 14.6/99.8 MB 7.5 MB/s eta 0:00:12\n",
      "   ----- ---------------------------------- 14.9/99.8 MB 7.4 MB/s eta 0:00:12\n",
      "   ------ --------------------------------- 15.3/99.8 MB 7.3 MB/s eta 0:00:12\n",
      "   ------ --------------------------------- 15.6/99.8 MB 7.4 MB/s eta 0:00:12\n",
      "   ------ --------------------------------- 15.7/99.8 MB 7.1 MB/s eta 0:00:12\n",
      "   ------ --------------------------------- 16.0/99.8 MB 7.0 MB/s eta 0:00:12\n",
      "   ------ --------------------------------- 16.4/99.8 MB 7.9 MB/s eta 0:00:11\n",
      "   ------ --------------------------------- 16.6/99.8 MB 7.7 MB/s eta 0:00:11\n",
      "   ------ --------------------------------- 17.3/99.8 MB 7.4 MB/s eta 0:00:12\n",
      "   ------- -------------------------------- 17.8/99.8 MB 7.5 MB/s eta 0:00:11\n",
      "   ------- -------------------------------- 18.3/99.8 MB 7.6 MB/s eta 0:00:11\n",
      "   ------- -------------------------------- 18.8/99.8 MB 7.8 MB/s eta 0:00:11\n",
      "   ------- -------------------------------- 19.3/99.8 MB 7.8 MB/s eta 0:00:11\n",
      "   ------- -------------------------------- 19.9/99.8 MB 8.1 MB/s eta 0:00:10\n",
      "   -------- ------------------------------- 20.4/99.8 MB 8.1 MB/s eta 0:00:10\n",
      "   -------- ------------------------------- 20.9/99.8 MB 8.3 MB/s eta 0:00:10\n",
      "   -------- ------------------------------- 21.5/99.8 MB 8.3 MB/s eta 0:00:10\n",
      "   -------- ------------------------------- 21.9/99.8 MB 8.7 MB/s eta 0:00:09\n",
      "   --------- ------------------------------ 22.5/99.8 MB 8.6 MB/s eta 0:00:09\n",
      "   --------- ------------------------------ 22.5/99.8 MB 8.6 MB/s eta 0:00:09\n",
      "   --------- ------------------------------ 23.6/99.8 MB 9.0 MB/s eta 0:00:09\n",
      "   --------- ------------------------------ 24.1/99.8 MB 9.1 MB/s eta 0:00:09\n",
      "   --------- ------------------------------ 24.6/99.8 MB 9.8 MB/s eta 0:00:08\n",
      "   ---------- ----------------------------- 25.1/99.8 MB 9.8 MB/s eta 0:00:08\n",
      "   ---------- ----------------------------- 25.5/99.8 MB 9.8 MB/s eta 0:00:08\n",
      "   ---------- ----------------------------- 26.0/99.8 MB 10.6 MB/s eta 0:00:07\n",
      "   ---------- ----------------------------- 26.5/99.8 MB 10.7 MB/s eta 0:00:07\n",
      "   ---------- ----------------------------- 26.9/99.8 MB 10.9 MB/s eta 0:00:07\n",
      "   ---------- ----------------------------- 27.4/99.8 MB 10.6 MB/s eta 0:00:07\n",
      "   ----------- ---------------------------- 27.8/99.8 MB 10.4 MB/s eta 0:00:07\n",
      "   ----------- ---------------------------- 28.3/99.8 MB 10.4 MB/s eta 0:00:07\n",
      "   ----------- ---------------------------- 28.8/99.8 MB 10.4 MB/s eta 0:00:07\n",
      "   ----------- ---------------------------- 29.2/99.8 MB 10.4 MB/s eta 0:00:07\n",
      "   ----------- ---------------------------- 29.5/99.8 MB 10.4 MB/s eta 0:00:07\n",
      "   ----------- ---------------------------- 29.5/99.8 MB 10.4 MB/s eta 0:00:07\n",
      "   ----------- ---------------------------- 29.5/99.8 MB 10.4 MB/s eta 0:00:07\n",
      "   ------------ --------------------------- 30.0/99.8 MB 9.5 MB/s eta 0:00:08\n",
      "   ------------ --------------------------- 31.5/99.8 MB 10.1 MB/s eta 0:00:07\n",
      "   ------------ --------------------------- 32.0/99.8 MB 10.1 MB/s eta 0:00:07\n",
      "   ------------ --------------------------- 32.4/99.8 MB 10.1 MB/s eta 0:00:07\n",
      "   ------------- -------------------------- 32.9/99.8 MB 10.4 MB/s eta 0:00:07\n",
      "   ------------- -------------------------- 33.4/99.8 MB 9.9 MB/s eta 0:00:07\n",
      "   ------------- -------------------------- 33.4/99.8 MB 9.9 MB/s eta 0:00:07\n",
      "   ------------- -------------------------- 33.4/99.8 MB 9.9 MB/s eta 0:00:07\n",
      "   ------------- -------------------------- 34.5/99.8 MB 9.2 MB/s eta 0:00:08\n",
      "   ------------- -------------------------- 34.7/99.8 MB 8.8 MB/s eta 0:00:08\n",
      "   -------------- ------------------------- 35.2/99.8 MB 9.0 MB/s eta 0:00:08\n",
      "   -------------- ------------------------- 35.3/99.8 MB 8.5 MB/s eta 0:00:08\n",
      "   -------------- ------------------------- 35.3/99.8 MB 8.5 MB/s eta 0:00:08\n",
      "   -------------- ------------------------- 35.3/99.8 MB 8.5 MB/s eta 0:00:08\n",
      "   -------------- ------------------------- 35.3/99.8 MB 8.5 MB/s eta 0:00:08\n",
      "   -------------- ------------------------- 37.0/99.8 MB 8.6 MB/s eta 0:00:08\n",
      "   --------------- ------------------------ 37.9/99.8 MB 8.7 MB/s eta 0:00:08\n",
      "   --------------- ------------------------ 39.0/99.8 MB 9.6 MB/s eta 0:00:07\n",
      "   --------------- ------------------------ 39.0/99.8 MB 9.6 MB/s eta 0:00:07\n",
      "   --------------- ------------------------ 39.4/99.8 MB 9.0 MB/s eta 0:00:07\n",
      "   ---------------- ----------------------- 40.8/99.8 MB 10.4 MB/s eta 0:00:06\n",
      "   ---------------- ----------------------- 40.8/99.8 MB 10.4 MB/s eta 0:00:06\n",
      "   ---------------- ----------------------- 40.8/99.8 MB 10.4 MB/s eta 0:00:06\n",
      "   ---------------- ----------------------- 42.3/99.8 MB 9.6 MB/s eta 0:00:06\n",
      "   ----------------- ---------------------- 42.4/99.8 MB 9.8 MB/s eta 0:00:06\n",
      "   ----------------- ---------------------- 42.4/99.8 MB 9.8 MB/s eta 0:00:06\n",
      "   ----------------- ---------------------- 43.6/99.8 MB 9.5 MB/s eta 0:00:06\n",
      "   ----------------- ---------------------- 44.2/99.8 MB 10.9 MB/s eta 0:00:06\n",
      "   ----------------- ---------------------- 44.6/99.8 MB 10.4 MB/s eta 0:00:06\n",
      "   ----------------- ---------------------- 44.7/99.8 MB 10.4 MB/s eta 0:00:06\n",
      "   ------------------ --------------------- 45.1/99.8 MB 10.2 MB/s eta 0:00:06\n",
      "   ------------------ --------------------- 46.0/99.8 MB 12.8 MB/s eta 0:00:05\n",
      "   ------------------ --------------------- 46.5/99.8 MB 12.4 MB/s eta 0:00:05\n",
      "   ------------------ --------------------- 47.0/99.8 MB 11.7 MB/s eta 0:00:05\n",
      "   ------------------- -------------------- 47.4/99.8 MB 11.5 MB/s eta 0:00:05\n",
      "   ------------------- -------------------- 47.7/99.8 MB 11.1 MB/s eta 0:00:05\n",
      "   ------------------- -------------------- 48.0/99.8 MB 10.7 MB/s eta 0:00:05\n",
      "   ------------------- -------------------- 48.5/99.8 MB 10.2 MB/s eta 0:00:06\n",
      "   ------------------- -------------------- 49.0/99.8 MB 9.8 MB/s eta 0:00:06\n",
      "   ------------------- -------------------- 49.5/99.8 MB 10.4 MB/s eta 0:00:05\n",
      "   ------------------- -------------------- 49.8/99.8 MB 10.9 MB/s eta 0:00:05\n",
      "   -------------------- ------------------- 50.0/99.8 MB 10.4 MB/s eta 0:00:05\n",
      "   -------------------- ------------------- 51.0/99.8 MB 9.6 MB/s eta 0:00:06\n",
      "   -------------------- ------------------- 51.4/99.8 MB 10.4 MB/s eta 0:00:05\n",
      "   -------------------- ------------------- 51.9/99.8 MB 10.1 MB/s eta 0:00:05\n",
      "   -------------------- ------------------- 52.3/99.8 MB 9.6 MB/s eta 0:00:05\n",
      "   --------------------- ------------------ 52.9/99.8 MB 10.6 MB/s eta 0:00:05\n",
      "   --------------------- ------------------ 53.2/99.8 MB 10.2 MB/s eta 0:00:05\n",
      "   --------------------- ------------------ 53.2/99.8 MB 10.2 MB/s eta 0:00:05\n",
      "   --------------------- ------------------ 53.9/99.8 MB 9.4 MB/s eta 0:00:05\n",
      "   --------------------- ------------------ 54.4/99.8 MB 9.4 MB/s eta 0:00:05\n",
      "   ---------------------- ----------------- 55.1/99.8 MB 10.2 MB/s eta 0:00:05\n",
      "   ---------------------- ----------------- 55.7/99.8 MB 9.9 MB/s eta 0:00:05\n",
      "   ---------------------- ----------------- 56.2/99.8 MB 9.6 MB/s eta 0:00:05\n",
      "   ---------------------- ----------------- 56.7/99.8 MB 9.8 MB/s eta 0:00:05\n",
      "   ---------------------- ----------------- 56.7/99.8 MB 9.6 MB/s eta 0:00:05\n",
      "   ---------------------- ----------------- 56.7/99.8 MB 9.6 MB/s eta 0:00:05\n",
      "   ---------------------- ----------------- 56.7/99.8 MB 8.5 MB/s eta 0:00:06\n",
      "   ----------------------- ---------------- 58.1/99.8 MB 9.9 MB/s eta 0:00:05\n",
      "   ----------------------- ---------------- 58.1/99.8 MB 9.9 MB/s eta 0:00:05\n",
      "   ----------------------- ---------------- 59.5/99.8 MB 9.9 MB/s eta 0:00:05\n",
      "   ----------------------- ---------------- 59.5/99.8 MB 9.5 MB/s eta 0:00:05\n",
      "   ------------------------ --------------- 60.0/99.8 MB 9.5 MB/s eta 0:00:05\n",
      "   ------------------------ --------------- 60.5/99.8 MB 9.8 MB/s eta 0:00:05\n",
      "   ------------------------ --------------- 61.1/99.8 MB 9.8 MB/s eta 0:00:04\n",
      "   ------------------------ --------------- 61.7/99.8 MB 10.2 MB/s eta 0:00:04\n",
      "   ------------------------ --------------- 62.1/99.8 MB 9.9 MB/s eta 0:00:04\n",
      "   ------------------------- -------------- 62.7/99.8 MB 9.9 MB/s eta 0:00:04\n",
      "   ------------------------- -------------- 63.2/99.8 MB 9.8 MB/s eta 0:00:04\n",
      "   ------------------------- -------------- 63.6/99.8 MB 10.7 MB/s eta 0:00:04\n",
      "   ------------------------- -------------- 63.7/99.8 MB 10.2 MB/s eta 0:00:04\n",
      "   ------------------------- -------------- 64.6/99.8 MB 10.1 MB/s eta 0:00:04\n",
      "   -------------------------- ------------- 65.1/99.8 MB 10.1 MB/s eta 0:00:04\n",
      "   -------------------------- ------------- 65.2/99.8 MB 10.1 MB/s eta 0:00:04\n",
      "   -------------------------- ------------- 65.2/99.8 MB 10.1 MB/s eta 0:00:04\n",
      "   -------------------------- ------------- 66.2/99.8 MB 9.6 MB/s eta 0:00:04\n",
      "   -------------------------- ------------- 66.9/99.8 MB 9.8 MB/s eta 0:00:04\n",
      "   -------------------------- ------------- 67.0/99.8 MB 11.3 MB/s eta 0:00:03\n",
      "   -------------------------- ------------- 67.0/99.8 MB 11.3 MB/s eta 0:00:03\n",
      "   --------------------------- ------------ 67.6/99.8 MB 9.9 MB/s eta 0:00:04\n",
      "   --------------------------- ------------ 68.7/99.8 MB 10.6 MB/s eta 0:00:03\n",
      "   --------------------------- ------------ 68.9/99.8 MB 10.1 MB/s eta 0:00:04\n",
      "   --------------------------- ------------ 68.9/99.8 MB 10.1 MB/s eta 0:00:04\n",
      "   --------------------------- ------------ 68.9/99.8 MB 10.1 MB/s eta 0:00:04\n",
      "   --------------------------- ------------ 68.9/99.8 MB 10.1 MB/s eta 0:00:04\n",
      "   --------------------------- ------------ 68.9/99.8 MB 8.4 MB/s eta 0:00:04\n",
      "   --------------------------- ------------ 69.7/99.8 MB 8.4 MB/s eta 0:00:04\n",
      "   ---------------------------- ----------- 70.4/99.8 MB 8.8 MB/s eta 0:00:04\n",
      "   ---------------------------- ----------- 71.0/99.8 MB 8.7 MB/s eta 0:00:04\n",
      "   ---------------------------- ----------- 71.1/99.8 MB 8.8 MB/s eta 0:00:04\n",
      "   ---------------------------- ----------- 71.9/99.8 MB 8.7 MB/s eta 0:00:04\n",
      "   ---------------------------- ----------- 71.9/99.8 MB 8.7 MB/s eta 0:00:04\n",
      "   ---------------------------- ----------- 71.9/99.8 MB 8.7 MB/s eta 0:00:04\n",
      "   ----------------------------- ---------- 73.6/99.8 MB 8.7 MB/s eta 0:00:03\n",
      "   ----------------------------- ---------- 73.6/99.8 MB 8.7 MB/s eta 0:00:03\n",
      "   ----------------------------- ---------- 73.6/99.8 MB 8.7 MB/s eta 0:00:03\n",
      "   ----------------------------- ---------- 74.2/99.8 MB 8.5 MB/s eta 0:00:04\n",
      "   ----------------------------- ---------- 74.2/99.8 MB 8.5 MB/s eta 0:00:04\n",
      "   ----------------------------- ---------- 74.5/99.8 MB 7.9 MB/s eta 0:00:04\n",
      "   ------------------------------ --------- 75.7/99.8 MB 8.8 MB/s eta 0:00:03\n",
      "   ------------------------------ --------- 76.4/99.8 MB 8.6 MB/s eta 0:00:03\n",
      "   ------------------------------ --------- 76.7/99.8 MB 8.4 MB/s eta 0:00:03\n",
      "   ------------------------------ --------- 77.2/99.8 MB 8.4 MB/s eta 0:00:03\n",
      "   ------------------------------- -------- 78.1/99.8 MB 9.2 MB/s eta 0:00:03\n",
      "   ------------------------------- -------- 78.7/99.8 MB 8.8 MB/s eta 0:00:03\n",
      "   ------------------------------- -------- 79.2/99.8 MB 10.9 MB/s eta 0:00:02\n",
      "   ------------------------------- -------- 79.8/99.8 MB 10.7 MB/s eta 0:00:02\n",
      "   -------------------------------- ------- 80.4/99.8 MB 10.6 MB/s eta 0:00:02\n",
      "   -------------------------------- ------- 80.9/99.8 MB 10.7 MB/s eta 0:00:02\n",
      "   -------------------------------- ------- 81.5/99.8 MB 11.1 MB/s eta 0:00:02\n",
      "   -------------------------------- ------- 82.0/99.8 MB 10.6 MB/s eta 0:00:02\n",
      "   --------------------------------- ------ 82.5/99.8 MB 11.5 MB/s eta 0:00:02\n",
      "   --------------------------------- ------ 83.0/99.8 MB 10.9 MB/s eta 0:00:02\n",
      "   --------------------------------- ------ 83.5/99.8 MB 10.6 MB/s eta 0:00:02\n",
      "   --------------------------------- ------ 83.9/99.8 MB 11.7 MB/s eta 0:00:02\n",
      "   --------------------------------- ------ 84.2/99.8 MB 11.1 MB/s eta 0:00:02\n",
      "   --------------------------------- ------ 84.5/99.8 MB 11.7 MB/s eta 0:00:02\n",
      "   ---------------------------------- ----- 85.2/99.8 MB 11.5 MB/s eta 0:00:02\n",
      "   ---------------------------------- ----- 85.3/99.8 MB 10.9 MB/s eta 0:00:02\n",
      "   ---------------------------------- ----- 85.3/99.8 MB 10.4 MB/s eta 0:00:02\n",
      "   ---------------------------------- ----- 85.4/99.8 MB 10.4 MB/s eta 0:00:02\n",
      "   ---------------------------------- ----- 85.4/99.8 MB 10.4 MB/s eta 0:00:02\n",
      "   ---------------------------------- ----- 85.4/99.8 MB 9.2 MB/s eta 0:00:02\n",
      "   ---------------------------------- ----- 85.4/99.8 MB 8.7 MB/s eta 0:00:02\n",
      "   ---------------------------------- ----- 86.0/99.8 MB 8.6 MB/s eta 0:00:02\n",
      "   ---------------------------------- ----- 86.5/99.8 MB 8.6 MB/s eta 0:00:02\n",
      "   ---------------------------------- ----- 86.9/99.8 MB 8.7 MB/s eta 0:00:02\n",
      "   ---------------------------------- ----- 86.9/99.8 MB 8.7 MB/s eta 0:00:02\n",
      "   ----------------------------------- ---- 88.0/99.8 MB 8.4 MB/s eta 0:00:02\n",
      "   ----------------------------------- ---- 88.5/99.8 MB 8.4 MB/s eta 0:00:02\n",
      "   ----------------------------------- ---- 89.0/99.8 MB 8.3 MB/s eta 0:00:02\n",
      "   ----------------------------------- ---- 89.6/99.8 MB 8.3 MB/s eta 0:00:02\n",
      "   ------------------------------------ --- 90.0/99.8 MB 8.3 MB/s eta 0:00:02\n",
      "   ------------------------------------ --- 90.4/99.8 MB 8.2 MB/s eta 0:00:02\n",
      "   ------------------------------------ --- 90.6/99.8 MB 8.0 MB/s eta 0:00:02\n",
      "   ------------------------------------ --- 90.7/99.8 MB 8.0 MB/s eta 0:00:02\n",
      "   ------------------------------------ --- 90.7/99.8 MB 8.0 MB/s eta 0:00:02\n",
      "   ------------------------------------ --- 90.7/99.8 MB 8.0 MB/s eta 0:00:02\n",
      "   ------------------------------------ --- 90.7/99.8 MB 8.0 MB/s eta 0:00:02\n",
      "   ------------------------------------ --- 90.7/99.8 MB 8.0 MB/s eta 0:00:02\n",
      "   ------------------------------------ --- 90.7/99.8 MB 8.0 MB/s eta 0:00:02\n",
      "   ------------------------------------ --- 90.7/99.8 MB 8.0 MB/s eta 0:00:02\n",
      "   ------------------------------------- -- 92.5/99.8 MB 6.8 MB/s eta 0:00:02\n",
      "   ------------------------------------- -- 93.3/99.8 MB 7.0 MB/s eta 0:00:01\n",
      "   ------------------------------------- -- 93.3/99.8 MB 7.0 MB/s eta 0:00:01\n",
      "   ------------------------------------- -- 93.4/99.8 MB 6.6 MB/s eta 0:00:01\n",
      "   ------------------------------------- -- 93.4/99.8 MB 6.6 MB/s eta 0:00:01\n",
      "   ------------------------------------- -- 93.4/99.8 MB 6.6 MB/s eta 0:00:01\n",
      "   ------------------------------------- -- 93.4/99.8 MB 6.6 MB/s eta 0:00:01\n",
      "   ------------------------------------- -- 93.4/99.8 MB 6.6 MB/s eta 0:00:01\n",
      "   ------------------------------------- -- 93.4/99.8 MB 6.6 MB/s eta 0:00:01\n",
      "   ------------------------------------- -- 93.4/99.8 MB 6.6 MB/s eta 0:00:01\n",
      "   ------------------------------------- -- 93.4/99.8 MB 6.6 MB/s eta 0:00:01\n",
      "   -------------------------------------- - 96.5/99.8 MB 7.5 MB/s eta 0:00:01\n",
      "   ---------------------------------------  97.8/99.8 MB 8.2 MB/s eta 0:00:01\n",
      "   ---------------------------------------  98.6/99.8 MB 8.4 MB/s eta 0:00:01\n",
      "   ---------------------------------------  99.1/99.8 MB 8.2 MB/s eta 0:00:01\n",
      "   ---------------------------------------  99.7/99.8 MB 8.4 MB/s eta 0:00:01\n",
      "   ---------------------------------------  99.7/99.8 MB 8.4 MB/s eta 0:00:01\n",
      "   ---------------------------------------  99.7/99.8 MB 8.4 MB/s eta 0:00:01\n",
      "   ---------------------------------------  99.7/99.8 MB 8.4 MB/s eta 0:00:01\n",
      "   ---------------------------------------  99.7/99.8 MB 8.4 MB/s eta 0:00:01\n",
      "   ---------------------------------------  99.7/99.8 MB 8.4 MB/s eta 0:00:01\n",
      "   ---------------------------------------- 99.8/99.8 MB 6.6 MB/s eta 0:00:00\n",
      "Installing collected packages: xgboost\n",
      "Successfully installed xgboost-2.0.3\n",
      "Note: you may need to restart the kernel to use updated packages.\n"
     ]
    }
   ],
   "source": [
    "pip install xgboost"
   ]
  },
  {
   "cell_type": "code",
   "execution_count": 41,
   "id": "94ff5bf9",
   "metadata": {},
   "outputs": [
    {
     "name": "stdout",
     "output_type": "stream",
     "text": [
      "Collecting lightgbmNote: you may need to restart the kernel to use updated packages.\n",
      "\n",
      "  Obtaining dependency information for lightgbm from https://files.pythonhosted.org/packages/e1/4c/4685ccfae9806f561de716e32549190c1f533dde5bcadaf83bdf23972cf0/lightgbm-4.3.0-py3-none-win_amd64.whl.metadata\n",
      "  Downloading lightgbm-4.3.0-py3-none-win_amd64.whl.metadata (19 kB)\n",
      "Requirement already satisfied: numpy in d:\\java1\\lib\\site-packages (from lightgbm) (1.24.3)\n",
      "Requirement already satisfied: scipy in d:\\java1\\lib\\site-packages (from lightgbm) (1.10.1)\n",
      "Downloading lightgbm-4.3.0-py3-none-win_amd64.whl (1.3 MB)\n",
      "   ---------------------------------------- 0.0/1.3 MB ? eta -:--:--\n",
      "    --------------------------------------- 0.0/1.3 MB ? eta -:--:--\n",
      "    --------------------------------------- 0.0/1.3 MB ? eta -:--:--\n",
      "   --- ------------------------------------ 0.1/1.3 MB 939.4 kB/s eta 0:00:02\n",
      "   --- ------------------------------------ 0.1/1.3 MB 939.4 kB/s eta 0:00:02\n",
      "   ------- -------------------------------- 0.2/1.3 MB 1.1 MB/s eta 0:00:02\n",
      "   -------------- ------------------------- 0.5/1.3 MB 1.7 MB/s eta 0:00:01\n",
      "   ------------------------- -------------- 0.8/1.3 MB 2.5 MB/s eta 0:00:01\n",
      "   --------------------------- ------------ 0.9/1.3 MB 2.6 MB/s eta 0:00:01\n",
      "   --------------------------- ------------ 0.9/1.3 MB 2.6 MB/s eta 0:00:01\n",
      "   --------------------------- ------------ 0.9/1.3 MB 2.6 MB/s eta 0:00:01\n",
      "   ---------------------------------------  1.3/1.3 MB 2.6 MB/s eta 0:00:01\n",
      "   ---------------------------------------- 1.3/1.3 MB 2.4 MB/s eta 0:00:00\n",
      "Installing collected packages: lightgbm\n",
      "Successfully installed lightgbm-4.3.0\n"
     ]
    }
   ],
   "source": [
    "pip install lightgbm"
   ]
  },
  {
   "cell_type": "code",
   "execution_count": 45,
   "id": "39612c3a",
   "metadata": {},
   "outputs": [
    {
     "name": "stdout",
     "output_type": "stream",
     "text": [
      "Requirement already satisfied: catboost in d:\\java1\\lib\\site-packages (1.2.2)Note: you may need to restart the kernel to use updated packages.\n",
      "\n",
      "Requirement already satisfied: graphviz in d:\\java1\\lib\\site-packages (from catboost) (0.20.1)\n",
      "Requirement already satisfied: matplotlib in d:\\java1\\lib\\site-packages (from catboost) (3.7.1)\n",
      "Requirement already satisfied: numpy>=1.16.0 in d:\\java1\\lib\\site-packages (from catboost) (1.24.3)\n",
      "Requirement already satisfied: pandas>=0.24 in d:\\java1\\lib\\site-packages (from catboost) (1.5.3)\n",
      "Requirement already satisfied: scipy in d:\\java1\\lib\\site-packages (from catboost) (1.10.1)\n",
      "Requirement already satisfied: plotly in d:\\java1\\lib\\site-packages (from catboost) (5.9.0)\n",
      "Requirement already satisfied: six in d:\\java1\\lib\\site-packages (from catboost) (1.16.0)\n",
      "Requirement already satisfied: python-dateutil>=2.8.1 in d:\\java1\\lib\\site-packages (from pandas>=0.24->catboost) (2.8.2)\n",
      "Requirement already satisfied: pytz>=2020.1 in d:\\java1\\lib\\site-packages (from pandas>=0.24->catboost) (2022.7)\n",
      "Requirement already satisfied: contourpy>=1.0.1 in d:\\java1\\lib\\site-packages (from matplotlib->catboost) (1.0.5)\n",
      "Requirement already satisfied: cycler>=0.10 in d:\\java1\\lib\\site-packages (from matplotlib->catboost) (0.11.0)\n",
      "Requirement already satisfied: fonttools>=4.22.0 in d:\\java1\\lib\\site-packages (from matplotlib->catboost) (4.25.0)\n",
      "Requirement already satisfied: kiwisolver>=1.0.1 in d:\\java1\\lib\\site-packages (from matplotlib->catboost) (1.4.4)\n",
      "Requirement already satisfied: packaging>=20.0 in d:\\java1\\lib\\site-packages (from matplotlib->catboost) (23.0)\n",
      "Requirement already satisfied: pillow>=6.2.0 in d:\\java1\\lib\\site-packages (from matplotlib->catboost) (9.4.0)\n",
      "Requirement already satisfied: pyparsing>=2.3.1 in d:\\java1\\lib\\site-packages (from matplotlib->catboost) (3.0.9)\n",
      "Requirement already satisfied: tenacity>=6.2.0 in d:\\java1\\lib\\site-packages (from plotly->catboost) (8.2.2)\n"
     ]
    }
   ],
   "source": [
    "pip install catboost"
   ]
  },
  {
   "cell_type": "code",
   "execution_count": 46,
   "id": "b048fa84",
   "metadata": {},
   "outputs": [],
   "source": [
    "from xgboost import XGBClassifier\n",
    "from lightgbm import LGBMClassifier\n",
    "from catboost import CatBoostClassifier\n",
    "from sklearn.linear_model import RidgeClassifier\n",
    "from sklearn.neural_network import MLPClassifier\n",
    "from sklearn.ensemble import VotingClassifier"
   ]
  },
  {
   "cell_type": "code",
   "execution_count": 47,
   "id": "b3cab3c3",
   "metadata": {},
   "outputs": [],
   "source": [
    "models = [\n",
    "    (\"XGBoost\", XGBClassifier()),\n",
    "    (\"LightGBM\", LGBMClassifier()),\n",
    "    (\"Ridge Classifier\", RidgeClassifier()),\n",
    "    (\"MLP Neural Net\", MLPClassifier())\n",
    "]"
   ]
  },
  {
   "cell_type": "code",
   "execution_count": 48,
   "id": "54bc4926",
   "metadata": {},
   "outputs": [
    {
     "name": "stdout",
     "output_type": "stream",
     "text": [
      "XGBoost Accuracy: 95.29652351738241\n",
      "[LightGBM] [Info] Number of positive: 749, number of negative: 718\n",
      "[LightGBM] [Info] Auto-choosing row-wise multi-threading, the overhead of testing was 0.000683 seconds.\n",
      "You can set `force_row_wise=true` to remove the overhead.\n",
      "And if memory is not enough, you can set `force_col_wise=true`.\n",
      "[LightGBM] [Info] Total Bins 224\n",
      "[LightGBM] [Info] Number of data points in the train set: 1467, number of used features: 112\n",
      "[LightGBM] [Info] [binary:BoostFromScore]: pavg=0.510566 -> initscore=0.042269\n",
      "[LightGBM] [Info] Start training from score 0.042269\n",
      "[LightGBM] [Warning] No further splits with positive gain, best gain: -inf\n",
      "[LightGBM] [Warning] No further splits with positive gain, best gain: -inf\n",
      "[LightGBM] [Warning] No further splits with positive gain, best gain: -inf\n",
      "[LightGBM] [Warning] No further splits with positive gain, best gain: -inf\n",
      "[LightGBM] [Warning] No further splits with positive gain, best gain: -inf\n",
      "[LightGBM] [Warning] No further splits with positive gain, best gain: -inf\n",
      "[LightGBM] [Warning] No further splits with positive gain, best gain: -inf\n",
      "[LightGBM] [Warning] No further splits with positive gain, best gain: -inf\n",
      "[LightGBM] [Warning] No further splits with positive gain, best gain: -inf\n",
      "[LightGBM] [Warning] No further splits with positive gain, best gain: -inf\n",
      "[LightGBM] [Warning] No further splits with positive gain, best gain: -inf\n",
      "[LightGBM] [Warning] No further splits with positive gain, best gain: -inf\n",
      "[LightGBM] [Warning] No further splits with positive gain, best gain: -inf\n",
      "[LightGBM] [Warning] No further splits with positive gain, best gain: -inf\n",
      "[LightGBM] [Warning] No further splits with positive gain, best gain: -inf\n",
      "[LightGBM] [Warning] No further splits with positive gain, best gain: -inf\n",
      "[LightGBM] [Warning] No further splits with positive gain, best gain: -inf\n",
      "[LightGBM] [Warning] No further splits with positive gain, best gain: -inf\n",
      "[LightGBM] [Warning] No further splits with positive gain, best gain: -inf\n",
      "[LightGBM] [Warning] No further splits with positive gain, best gain: -inf\n",
      "[LightGBM] [Warning] No further splits with positive gain, best gain: -inf\n",
      "LightGBM Accuracy: 95.0920245398773\n",
      "Ridge Classifier Accuracy: 92.43353783231085\n",
      "MLP Neural Net Accuracy: 90.59304703476482\n"
     ]
    }
   ],
   "source": [
    "# Train and evaluate each model\n",
    "for name, model in models:\n",
    "    nltk_model = SklearnClassifier(model)\n",
    "    nltk_model.train(training)\n",
    "    accuracy = nltk.classify.accuracy(nltk_model, testing)*100\n",
    "    print(f\"{name} Accuracy: {accuracy}\")"
   ]
  },
  {
   "cell_type": "code",
   "execution_count": 49,
   "id": "1595c8a3",
   "metadata": {},
   "outputs": [
    {
     "name": "stdout",
     "output_type": "stream",
     "text": [
      "XGBoost Accuracy: 95.29652351738241\n",
      "[LightGBM] [Info] Number of positive: 749, number of negative: 718\n",
      "[LightGBM] [Info] Auto-choosing row-wise multi-threading, the overhead of testing was 0.000650 seconds.\n",
      "You can set `force_row_wise=true` to remove the overhead.\n",
      "And if memory is not enough, you can set `force_col_wise=true`.\n",
      "[LightGBM] [Info] Total Bins 224\n",
      "[LightGBM] [Info] Number of data points in the train set: 1467, number of used features: 112\n",
      "[LightGBM] [Info] [binary:BoostFromScore]: pavg=0.510566 -> initscore=0.042269\n",
      "[LightGBM] [Info] Start training from score 0.042269\n",
      "[LightGBM] [Warning] No further splits with positive gain, best gain: -inf\n",
      "[LightGBM] [Warning] No further splits with positive gain, best gain: -inf\n",
      "[LightGBM] [Warning] No further splits with positive gain, best gain: -inf\n",
      "[LightGBM] [Warning] No further splits with positive gain, best gain: -inf\n",
      "[LightGBM] [Warning] No further splits with positive gain, best gain: -inf\n",
      "[LightGBM] [Warning] No further splits with positive gain, best gain: -inf\n",
      "[LightGBM] [Warning] No further splits with positive gain, best gain: -inf\n",
      "[LightGBM] [Warning] No further splits with positive gain, best gain: -inf\n",
      "[LightGBM] [Warning] No further splits with positive gain, best gain: -inf\n",
      "[LightGBM] [Warning] No further splits with positive gain, best gain: -inf\n",
      "[LightGBM] [Warning] No further splits with positive gain, best gain: -inf\n",
      "[LightGBM] [Warning] No further splits with positive gain, best gain: -inf\n",
      "[LightGBM] [Warning] No further splits with positive gain, best gain: -inf\n",
      "[LightGBM] [Warning] No further splits with positive gain, best gain: -inf\n",
      "[LightGBM] [Warning] No further splits with positive gain, best gain: -inf\n",
      "[LightGBM] [Warning] No further splits with positive gain, best gain: -inf\n",
      "[LightGBM] [Warning] No further splits with positive gain, best gain: -inf\n",
      "[LightGBM] [Warning] No further splits with positive gain, best gain: -inf\n",
      "[LightGBM] [Warning] No further splits with positive gain, best gain: -inf\n",
      "[LightGBM] [Warning] No further splits with positive gain, best gain: -inf\n",
      "[LightGBM] [Warning] No further splits with positive gain, best gain: -inf\n",
      "LightGBM Accuracy: 95.0920245398773\n",
      "Ridge Classifier Accuracy: 92.43353783231085\n",
      "MLP Neural Net Accuracy: 91.00204498977506\n"
     ]
    }
   ],
   "source": [
    "# Train and evaluate each model\n",
    "for name, model in models:\n",
    "    nltk_model = SklearnClassifier(model)\n",
    "    nltk_model.train(training)\n",
    "    accuracy = nltk.classify.accuracy(nltk_model, testing)*100\n",
    "    print(f\"{name} Accuracy: {accuracy}\")"
   ]
  },
  {
   "cell_type": "code",
   "execution_count": 50,
   "id": "3adca779",
   "metadata": {},
   "outputs": [],
   "source": [
    "# TensorBoard logging directory setup\n",
    "log_dir = \"logs/fit/\" + datetime.datetime.now().strftime(\"%Y%m%d-%H%M%S\")\n",
    "with tf.summary.create_file_writer(log_dir).as_default():\n",
    "    hp.hparams_config(\n",
    "        hparams=[HP_MODEL, HP_TRAIN_SIZE],\n",
    "        metrics=[hp.Metric('accuracy', display_name='Accuracy')],\n",
    "    )"
   ]
  },
  {
   "cell_type": "code",
   "execution_count": 51,
   "id": "579bf7ff",
   "metadata": {},
   "outputs": [
    {
     "name": "stdout",
     "output_type": "stream",
     "text": [
      "XGBoost Accuracy: 95.29652351738241%\n",
      "[LightGBM] [Info] Number of positive: 749, number of negative: 718\n",
      "[LightGBM] [Info] Auto-choosing row-wise multi-threading, the overhead of testing was 0.001437 seconds.\n",
      "You can set `force_row_wise=true` to remove the overhead.\n",
      "And if memory is not enough, you can set `force_col_wise=true`.\n",
      "[LightGBM] [Info] Total Bins 224\n",
      "[LightGBM] [Info] Number of data points in the train set: 1467, number of used features: 112\n",
      "[LightGBM] [Info] [binary:BoostFromScore]: pavg=0.510566 -> initscore=0.042269\n",
      "[LightGBM] [Info] Start training from score 0.042269\n",
      "[LightGBM] [Warning] No further splits with positive gain, best gain: -inf\n",
      "[LightGBM] [Warning] No further splits with positive gain, best gain: -inf\n",
      "[LightGBM] [Warning] No further splits with positive gain, best gain: -inf\n",
      "[LightGBM] [Warning] No further splits with positive gain, best gain: -inf\n",
      "[LightGBM] [Warning] No further splits with positive gain, best gain: -inf\n",
      "[LightGBM] [Warning] No further splits with positive gain, best gain: -inf\n",
      "[LightGBM] [Warning] No further splits with positive gain, best gain: -inf\n",
      "[LightGBM] [Warning] No further splits with positive gain, best gain: -inf\n",
      "[LightGBM] [Warning] No further splits with positive gain, best gain: -inf\n",
      "[LightGBM] [Warning] No further splits with positive gain, best gain: -inf\n",
      "[LightGBM] [Warning] No further splits with positive gain, best gain: -inf\n",
      "[LightGBM] [Warning] No further splits with positive gain, best gain: -inf\n",
      "[LightGBM] [Warning] No further splits with positive gain, best gain: -inf\n",
      "[LightGBM] [Warning] No further splits with positive gain, best gain: -inf\n",
      "[LightGBM] [Warning] No further splits with positive gain, best gain: -inf\n",
      "[LightGBM] [Warning] No further splits with positive gain, best gain: -inf\n",
      "[LightGBM] [Warning] No further splits with positive gain, best gain: -inf\n",
      "[LightGBM] [Warning] No further splits with positive gain, best gain: -inf\n",
      "[LightGBM] [Warning] No further splits with positive gain, best gain: -inf\n",
      "[LightGBM] [Warning] No further splits with positive gain, best gain: -inf\n",
      "[LightGBM] [Warning] No further splits with positive gain, best gain: -inf\n",
      "LightGBM Accuracy: 95.0920245398773%\n",
      "Ridge Classifier Accuracy: 92.43353783231085%\n",
      "MLP Neural Net Accuracy: 91.20654396728017%\n"
     ]
    }
   ],
   "source": [
    "for name, model in models:\n",
    "    hparams = {\n",
    "        HP_MODEL: name,\n",
    "        HP_TRAIN_SIZE: len(training) / (len(training) + len(testing)),\n",
    "    }\n",
    "\n",
    "    # Create a unique run name for TensorBoard\n",
    "    run_name = \"run-{}-{}\".format(name, datetime.datetime.now().strftime(\"%Y%m%d-%H%M%S\"))\n",
    "    \n",
    "    # Start logging this run\n",
    "    with tf.summary.create_file_writer(log_dir + '/' + run_name).as_default():\n",
    "        hp.hparams(hparams)  # record the values used in this trial\n",
    "\n",
    "        # Train the model\n",
    "        nltk_model = SklearnClassifier(model)\n",
    "        nltk_model.train(training)\n",
    "\n",
    "        # Evaluate the model\n",
    "        accuracy = nltk.classify.accuracy(nltk_model, testing) * 100\n",
    "\n",
    "        # Log the accuracy\n",
    "        tf.summary.scalar('accuracy', accuracy, step=1)\n",
    "        print(f\"{name} Accuracy: {accuracy}%\")"
   ]
  },
  {
   "cell_type": "code",
   "execution_count": 52,
   "id": "514f61b0",
   "metadata": {},
   "outputs": [
    {
     "name": "stdout",
     "output_type": "stream",
     "text": [
      "1467\n",
      "489\n"
     ]
    }
   ],
   "source": [
    "print(len(training))\n",
    "print(len(testing))"
   ]
  },
  {
   "cell_type": "code",
   "execution_count": 53,
   "id": "bf8955b8",
   "metadata": {},
   "outputs": [],
   "source": [
    "# import warnings filter\n",
    "from warnings import simplefilter\n",
    "# ignore all future warnings\n",
    "simplefilter(action='ignore', category=FutureWarning)"
   ]
  },
  {
   "cell_type": "code",
   "execution_count": 54,
   "id": "63335062",
   "metadata": {},
   "outputs": [],
   "source": [
    "# Assuming featuresets is a list of (feature_dict, label)\n",
    "test_features, test_labels = zip(*testing)"
   ]
  },
  {
   "cell_type": "code",
   "execution_count": 55,
   "id": "cef1fe84",
   "metadata": {},
   "outputs": [
    {
     "name": "stdout",
     "output_type": "stream",
     "text": [
      "Model: XGBoost\n",
      "              precision    recall  f1-score   support\n",
      "\n",
      "           0       0.94      0.97      0.95       233\n",
      "           1       0.97      0.94      0.95       256\n",
      "\n",
      "    accuracy                           0.95       489\n",
      "   macro avg       0.95      0.95      0.95       489\n",
      "weighted avg       0.95      0.95      0.95       489\n",
      "\n",
      "            predicted     \n",
      "                  ham spam\n",
      "actual ham        225    8\n",
      "       spam        15  241\n",
      "\n",
      "\n",
      "[LightGBM] [Info] Number of positive: 749, number of negative: 718\n",
      "[LightGBM] [Info] Auto-choosing row-wise multi-threading, the overhead of testing was 0.002417 seconds.\n",
      "You can set `force_row_wise=true` to remove the overhead.\n",
      "And if memory is not enough, you can set `force_col_wise=true`.\n",
      "[LightGBM] [Info] Total Bins 224\n",
      "[LightGBM] [Info] Number of data points in the train set: 1467, number of used features: 112\n",
      "[LightGBM] [Info] [binary:BoostFromScore]: pavg=0.510566 -> initscore=0.042269\n",
      "[LightGBM] [Info] Start training from score 0.042269\n",
      "[LightGBM] [Warning] No further splits with positive gain, best gain: -inf\n",
      "[LightGBM] [Warning] No further splits with positive gain, best gain: -inf\n",
      "[LightGBM] [Warning] No further splits with positive gain, best gain: -inf\n",
      "[LightGBM] [Warning] No further splits with positive gain, best gain: -inf\n",
      "[LightGBM] [Warning] No further splits with positive gain, best gain: -inf\n",
      "[LightGBM] [Warning] No further splits with positive gain, best gain: -inf\n",
      "[LightGBM] [Warning] No further splits with positive gain, best gain: -inf\n",
      "[LightGBM] [Warning] No further splits with positive gain, best gain: -inf\n",
      "[LightGBM] [Warning] No further splits with positive gain, best gain: -inf\n",
      "[LightGBM] [Warning] No further splits with positive gain, best gain: -inf\n",
      "[LightGBM] [Warning] No further splits with positive gain, best gain: -inf\n",
      "[LightGBM] [Warning] No further splits with positive gain, best gain: -inf\n",
      "[LightGBM] [Warning] No further splits with positive gain, best gain: -inf\n",
      "[LightGBM] [Warning] No further splits with positive gain, best gain: -inf\n",
      "[LightGBM] [Warning] No further splits with positive gain, best gain: -inf\n",
      "[LightGBM] [Warning] No further splits with positive gain, best gain: -inf\n",
      "[LightGBM] [Warning] No further splits with positive gain, best gain: -inf\n",
      "[LightGBM] [Warning] No further splits with positive gain, best gain: -inf\n",
      "[LightGBM] [Warning] No further splits with positive gain, best gain: -inf\n",
      "[LightGBM] [Warning] No further splits with positive gain, best gain: -inf\n",
      "[LightGBM] [Warning] No further splits with positive gain, best gain: -inf\n",
      "Model: LightGBM\n",
      "              precision    recall  f1-score   support\n",
      "\n",
      "           0       0.94      0.96      0.95       233\n",
      "           1       0.96      0.95      0.95       256\n",
      "\n",
      "    accuracy                           0.95       489\n",
      "   macro avg       0.95      0.95      0.95       489\n",
      "weighted avg       0.95      0.95      0.95       489\n",
      "\n",
      "            predicted     \n",
      "                  ham spam\n",
      "actual ham        223   10\n",
      "       spam        14  242\n",
      "\n",
      "\n",
      "Model: Ridge Classifier\n",
      "              precision    recall  f1-score   support\n",
      "\n",
      "           0       0.89      0.96      0.92       233\n",
      "           1       0.96      0.89      0.93       256\n",
      "\n",
      "    accuracy                           0.92       489\n",
      "   macro avg       0.93      0.93      0.92       489\n",
      "weighted avg       0.93      0.92      0.92       489\n",
      "\n",
      "            predicted     \n",
      "                  ham spam\n",
      "actual ham        223   10\n",
      "       spam        27  229\n",
      "\n",
      "\n",
      "Model: MLP Neural Net\n",
      "              precision    recall  f1-score   support\n",
      "\n",
      "           0       0.90      0.92      0.91       233\n",
      "           1       0.92      0.91      0.92       256\n",
      "\n",
      "    accuracy                           0.91       489\n",
      "   macro avg       0.91      0.91      0.91       489\n",
      "weighted avg       0.91      0.91      0.91       489\n",
      "\n",
      "            predicted     \n",
      "                  ham spam\n",
      "actual ham        214   19\n",
      "       spam        24  232\n",
      "\n",
      "\n"
     ]
    }
   ],
   "source": [
    "for name, model in models:\n",
    "    # Wrap the model with NLTK\n",
    "    nltk_model = SklearnClassifier(model)\n",
    "    nltk_model.train(training)\n",
    "\n",
    "    # Predict on the testing set\n",
    "    prediction = nltk_model.classify_many(test_features)\n",
    "\n",
    "    # Print the name of the model\n",
    "    print(f\"Model: {name}\")\n",
    "\n",
    "    # Print classification report\n",
    "    print(classification_report(test_labels, prediction))\n",
    "\n",
    "    # Print confusion matrix\n",
    "    confusion_mat = confusion_matrix(test_labels, prediction)\n",
    "    print(pd.DataFrame(confusion_mat, \n",
    "                       index=[['actual', 'actual'], ['ham', 'spam']], \n",
    "                       columns=[['predicted', 'predicted'], ['ham', 'spam']]))\n",
    "    print(\"\\n\")"
   ]
  },
  {
   "cell_type": "code",
   "execution_count": null,
   "id": "229919d0",
   "metadata": {},
   "outputs": [],
   "source": []
  }
 ],
 "metadata": {
  "kernelspec": {
   "display_name": "Python 3 (ipykernel)",
   "language": "python",
   "name": "python3"
  },
  "language_info": {
   "codemirror_mode": {
    "name": "ipython",
    "version": 3
   },
   "file_extension": ".py",
   "mimetype": "text/x-python",
   "name": "python",
   "nbconvert_exporter": "python",
   "pygments_lexer": "ipython3",
   "version": "3.11.4"
  }
 },
 "nbformat": 4,
 "nbformat_minor": 5
}
